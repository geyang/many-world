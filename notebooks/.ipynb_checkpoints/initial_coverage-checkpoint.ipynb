{
 "cells": [
  {
   "cell_type": "code",
   "execution_count": 2,
   "metadata": {},
   "outputs": [
    {
     "name": "stdout",
     "output_type": "stream",
     "text": [
      "ge.envs environments are now added!\n"
     ]
    }
   ],
   "source": [
    "# %load_ext autoreload\n",
    "# %autoreload 2\n",
    "\n",
    "from PIL import Image\n",
    "import matplotlib.pyplot as plt\n",
    "import numpy as np\n",
    "from tqdm import trange\n",
    "import gym\n",
    "from many_world.h_maze import HMazeEnv"
   ]
  },
  {
   "cell_type": "code",
   "execution_count": 2,
   "metadata": {},
   "outputs": [
    {
     "name": "stdout",
     "output_type": "stream",
     "text": [
      "Creating offscreen glfw\n"
     ]
    },
    {
     "data": {
      "image/png": "[encoded data removed]",
      "text/plain": [
       "<PIL.Image.Image image mode=RGB size=64x64 at 0x1197E3AC8>"
      ]
     },
     "metadata": {},
     "output_type": "display_data"
    }
   ],
   "source": [
    "env = HMazeEnv(open=False, transparent=True)\n",
    "env.reset()\n",
    "with env.with_color(-1):\n",
    "    env.render('notebook', width=64, height=64)"
   ]
  },
  {
   "cell_type": "code",
   "execution_count": 4,
   "metadata": {},
   "outputs": [
    {
     "name": "stderr",
     "output_type": "stream",
     "text": [
      "  0%|          | 2/400 [00:00<00:21, 18.34it/s]"
     ]
    },
    {
     "name": "stdout",
     "output_type": "stream",
     "text": [
      "Creating offscreen glfw\n",
      "Creating offscreen glfw\n"
     ]
    },
    {
     "name": "stderr",
     "output_type": "stream",
     "text": [
      "100%|██████████| 400/400 [00:05<00:00, 74.67it/s] \n"
     ]
    },
    {
     "data": {
      "image/png": "[encoded data removed]",
      "text/plain": [
       "<PIL.Image.Image image mode=RGB size=84x84 at 0x19BCD0240>"
      ]
     },
     "execution_count": 4,
     "metadata": {},
     "output_type": "execute_result"
    }
   ],
   "source": [
    "env = gym.make(\"many_world:HMaze-v0\", width=64, height=64)\n",
    "\n",
    "imgs = []\n",
    "for i in trange(400):\n",
    "    with env.with_color(-1):\n",
    "        env.reset()\n",
    "        imgs.append(env.render('rgb', width=84, height=84))\n",
    "\n",
    "Image.fromarray(np.stack(imgs, axis=-1).min(axis=-1))"
   ]
  },
  {
   "cell_type": "code",
   "execution_count": 3,
   "metadata": {},
   "outputs": [
    {
     "name": "stderr",
     "output_type": "stream",
     "text": [
      "  0%|          | 0/400 [00:00<?, ?it/s]"
     ]
    },
    {
     "name": "stdout",
     "output_type": "stream",
     "text": [
      "Creating offscreen glfw\n"
     ]
    },
    {
     "name": "stderr",
     "output_type": "stream",
     "text": [
      "  3%|▎         | 11/400 [00:00<02:34,  2.52it/s]"
     ]
    },
    {
     "name": "stdout",
     "output_type": "stream",
     "text": [
      "Creating offscreen glfw\n"
     ]
    },
    {
     "name": "stderr",
     "output_type": "stream",
     "text": [
      "100%|██████████| 400/400 [00:03<00:00, 109.21it/s]\n"
     ]
    },
    {
     "data": {
      "image/png": "[encoded data removed]",
      "text/plain": [
       "<PIL.Image.Image image mode=RGB size=84x84 at 0x11D498FD0>"
      ]
     },
     "execution_count": 3,
     "metadata": {},
     "output_type": "execute_result"
    }
   ],
   "source": [
    "env = gym.make(\"many_world:CMaze-v0\", width=64, height=64)\n",
    "\n",
    "imgs = []\n",
    "for i in trange(400):\n",
    "    with env.with_color(-1):\n",
    "        env.reset()\n",
    "        imgs.append(env.render('rgb', width=84, height=84))\n",
    "\n",
    "Image.fromarray(np.stack(imgs, axis=-1).min(axis=-1))"
   ]
  },
  {
   "cell_type": "code",
   "execution_count": 155,
   "metadata": {},
   "outputs": [
    {
     "data": {
      "image/png": "[encoded data removed]",
      "text/plain": [
       "<Figure size 432x288 with 1 Axes>"
      ]
     },
     "metadata": {
      "needs_background": "light"
     },
     "output_type": "display_data"
    },
    {
     "name": "stdout",
     "output_type": "stream",
     "text": [
      "   x: [-0.14342345 -0.24011847]\n",
      "qpos: [-1.43423453e-01 -2.40118465e-01  1.27405170e-01  1.52513583e-01\n",
      "  0.00000000e+00  1.72869055e-06  0.00000000e+00  0.00000000e+00]\n"
     ]
    }
   ],
   "source": [
    "# env = gym.make(\"many_world:CMaze-v0\", obs_keys=(\"img\", \"x\", \"goal\", \"img_goal\"), frame_skip=8)\n",
    "# env.reset()\n",
    "for i in range(1):\n",
    "    obs, *_ = env.step([0, -1])\n",
    "    plt.imshow(obs['img'][0])\n",
    "    plt.show()\n",
    "    print(\"   x:\", obs['x'])\n",
    "    print(\"qpos:\", env.state_dict())"
   ]
  },
  {
   "cell_type": "code",
   "execution_count": 106,
   "metadata": {},
   "outputs": [
    {
     "name": "stdout",
     "output_type": "stream",
     "text": [
      "   x: [-0.14342345 -0.17628939]\n",
      "qpos: [-0.14342345 -0.17628939  0.12740517  0.15251358  0.          0.79680851\n",
      "  0.          0.        ]\n"
     ]
    }
   ],
   "source": [
    "print(\"   x:\", obs['x'])\n",
    "print(\"qpos:\", env.state_dict())"
   ]
  },
  {
   "cell_type": "code",
   "execution_count": null,
   "metadata": {},
   "outputs": [],
   "source": []
  }
 ],
 "metadata": {
  "kernelspec": {
   "display_name": "Python 3",
   "language": "python",
   "name": "python3"
  },
  "language_info": {
   "codemirror_mode": {
    "name": "ipython",
    "version": 3
   },
   "file_extension": ".py",
   "mimetype": "text/x-python",
   "name": "python",
   "nbconvert_exporter": "python",
   "pygments_lexer": "ipython3",
   "version": "3.6.10"
  }
 },
 "nbformat": 4,
 "nbformat_minor": 4
}
